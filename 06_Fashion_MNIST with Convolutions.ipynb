{
 "cells": [
  {
   "cell_type": "markdown",
   "id": "eb92148d",
   "metadata": {},
   "source": [
    "# Imports"
   ]
  },
  {
   "cell_type": "markdown",
   "id": "7bf6795c",
   "metadata": {},
   "source": [
    "We start with imports.\n",
    "\n",
    "Here we are importing TensorFlow and calling it tf for ease of use.\n",
    "\n",
    "And, Check version of TensorFlow."
   ]
  },
  {
   "cell_type": "code",
   "execution_count": 1,
   "id": "363f511e",
   "metadata": {},
   "outputs": [
    {
     "name": "stdout",
     "output_type": "stream",
     "text": [
      "2.5.0\n"
     ]
    }
   ],
   "source": [
    "import tensorflow as tf\n",
    "\n",
    "print(tf.__version__)"
   ]
  },
  {
   "cell_type": "markdown",
   "id": "053e8b48",
   "metadata": {},
   "source": [
    "# Providing the Data"
   ]
  },
  {
   "cell_type": "markdown",
   "id": "ae20ac86",
   "metadata": {},
   "source": [
    "The Fashion MNIST data is available directly in the tf.keras datasets API.\n",
    "\n",
    "We load it here.\n",
    "\n",
    "We declare an object - mnist"
   ]
  },
  {
   "cell_type": "code",
   "execution_count": 2,
   "id": "e853c46a",
   "metadata": {},
   "outputs": [],
   "source": [
    "mnist = tf.keras.datasets.fashion_mnist"
   ]
  },
  {
   "cell_type": "markdown",
   "id": "1ac5b68b",
   "metadata": {},
   "source": [
    "# Creating Training and Testing set"
   ]
  },
  {
   "cell_type": "markdown",
   "id": "fb794d9d",
   "metadata": {},
   "source": [
    "We create the training and testing datasets for the graphics that contain the clothing items and their labels by calling load_data on the object - mnist.\n",
    "\n",
    "That's the training data, the training labels, the testing data, and the testing labels.\n",
    "\n",
    "It is important to use some of our data to train the neural network and similar data that the model hasn't yet seen to test how good it is at recognizing the images."
   ]
  },
  {
   "cell_type": "code",
   "execution_count": 3,
   "id": "11425543",
   "metadata": {},
   "outputs": [],
   "source": [
    "(training_images, training_labels), (test_images, test_labels) = mnist.load_data()"
   ]
  },
  {
   "cell_type": "markdown",
   "id": "4ade10e6",
   "metadata": {},
   "source": [
    "# Normalizing"
   ]
  },
  {
   "cell_type": "markdown",
   "id": "8f8bbaa8",
   "metadata": {},
   "source": [
    "The values of pixels are in the number between 0 and 255.\n",
    "\n",
    "While training a neural network, for various reasons it's easier if we treat all values as between 0 and 1.\n",
    "\n",
    "It is called 'normalizing'.\n",
    "\n",
    "We do it here.\n",
    "\n",
    "Training data needed to be reshaped, because the first convolution expects a single tensor containing everything, so instead of 60,000 28x28x1 items in a list, we have a single 4D list that is 60,000x28x28x1, and the same for the test images."
   ]
  },
  {
   "cell_type": "code",
   "execution_count": 4,
   "id": "c68cadba",
   "metadata": {},
   "outputs": [],
   "source": [
    "training_images=training_images.reshape(60000, 28, 28, 1)\n",
    "training_images=training_images / 255.0\n",
    "test_images = test_images.reshape(10000, 28, 28, 1)\n",
    "test_images=test_images/255.0"
   ]
  },
  {
   "cell_type": "markdown",
   "id": "3058cf80",
   "metadata": {},
   "source": [
    "# Define the Neural Network"
   ]
  },
  {
   "cell_type": "markdown",
   "id": "fc2e6517",
   "metadata": {},
   "source": [
    "The first layer contains the number of convolutions we want to generate, the shape of the input data.\n",
    "\n",
    "The size of the Convolution, in this case a 3x3 grid\n",
    "\n",
    "The activation function we use is relu.\n",
    "\n",
    "Relu effectively means \"If X>0 return X, else return 0\" -- so what it does it it only passes values 0 or greater to the next layer in the network.\n",
    "\n",
    "The second layer is MaxPooling.\n",
    "\n",
    "It is designed to compress the image, while maintaining the content of the features that were highlighted by the convlution.\n",
    "\n",
    "By specifying (2,2) for the MaxPooling, the effect is to quarter the size of the image.\n",
    "\n",
    "It creates a 2x2 array of pixels, and picks the biggest one, thus turning 4 pixels into 1.\n",
    "\n",
    "It repeats this across the image, and in so doing halves the number of horizontal, and halves the number of vertical pixels, effectively reducing the image by 25%.\n",
    "\n",
    "Then, we add another convolution.\n",
    "\n",
    "Then, flatten the output.\n",
    "\n",
    "The hidden layer has 128 neurons.\n",
    "\n",
    "The last layer has 10 neurons in it because we have ten classes of clothing in the dataset.\n",
    "\n",
    "Softmax takes a set of values, and effectively picks the biggest one. It turns [0.1, 0.1, 0.05, 0.1, 9.5, 0.1, 0.05, 0.05, 0.05] into [0,0,0,0,1,0,0,0,0]"
   ]
  },
  {
   "cell_type": "code",
   "execution_count": 5,
   "id": "deed9238",
   "metadata": {},
   "outputs": [],
   "source": [
    "model = tf.keras.models.Sequential([\n",
    "  tf.keras.layers.Conv2D(64, (3,3), activation='relu', input_shape=(28, 28, 1)),\n",
    "  tf.keras.layers.MaxPooling2D(2, 2),\n",
    "  tf.keras.layers.Conv2D(64, (3,3), activation='relu'),\n",
    "  tf.keras.layers.MaxPooling2D(2,2),\n",
    "  tf.keras.layers.Flatten(),\n",
    "  tf.keras.layers.Dense(128, activation='relu'),\n",
    "  tf.keras.layers.Dense(10, activation='softmax')\n",
    "])"
   ]
  },
  {
   "cell_type": "markdown",
   "id": "5a3766f8",
   "metadata": {},
   "source": [
    "# Compile the Neural Network"
   ]
  },
  {
   "cell_type": "markdown",
   "id": "05812576",
   "metadata": {},
   "source": [
    "While compiling our Neural Network we have to specify two functions, a loss and an optimizer.\n",
    "\n",
    "Computer makes a guess while trying to learn any relationship.\n",
    "\n",
    "The LOSS function measures the guessed answers against the known correct answers and measures how well or how badly it did.\n",
    "\n",
    "It then uses OPTIMIZER function to make another guess. Based on how the loss function went, it will try to minimize the loss.\n",
    "\n",
    "Here, we are using 'sparse_categorical_crossentropy' for the loss and 'Adam' for the optimizer.\n",
    "\n",
    "The Keras library provides a way to calculate and report on a suite of standard metrics when training deep learning models.\n",
    "\n",
    "This is particularly useful when we want to keep track of a performance measure that better captures the skill of our model during training. Here we will keep track of accuracy.\n",
    "\n",
    "We can do this by specifying the “metrics” argument.\n",
    "\n",
    "Regardless of whether our problem is a binary or multi-class classification problem, we can specify the ‘accuracy‘ metric to report on accuracy.\n",
    "\n",
    "Here we are using the built-in accuracy metric for multi-class classification problem."
   ]
  },
  {
   "cell_type": "code",
   "execution_count": 6,
   "id": "e4642afe",
   "metadata": {},
   "outputs": [],
   "source": [
    "model.compile(optimizer='adam', loss='sparse_categorical_crossentropy', metrics=['accuracy'])"
   ]
  },
  {
   "cell_type": "markdown",
   "id": "e56123ea",
   "metadata": {},
   "source": [
    "# Summarizing the model"
   ]
  },
  {
   "cell_type": "markdown",
   "id": "127effa6",
   "metadata": {},
   "source": [
    "The Keras Python deep learning library provides tools to visualize and better understand our neural network models.\n",
    "\n",
    "Keras provides a way to summarize a model.\n",
    "\n",
    "The summary is textual and includes information about:\n",
    "\n",
    "1.The layers and their order in the model.\n",
    "\n",
    "2.The output shape of each layer.\n",
    "\n",
    "3.The number of parameters (weights) in each layer.\n",
    "\n",
    "4.The total number of parameters (weights) in the model.\n",
    "\n",
    "The summary can be created by calling the summary() function on the model that returns a string that in turn can be printed."
   ]
  },
  {
   "cell_type": "code",
   "execution_count": 7,
   "id": "89c895c0",
   "metadata": {},
   "outputs": [
    {
     "name": "stdout",
     "output_type": "stream",
     "text": [
      "Model: \"sequential\"\n",
      "_________________________________________________________________\n",
      "Layer (type)                 Output Shape              Param #   \n",
      "=================================================================\n",
      "conv2d (Conv2D)              (None, 26, 26, 64)        640       \n",
      "_________________________________________________________________\n",
      "max_pooling2d (MaxPooling2D) (None, 13, 13, 64)        0         \n",
      "_________________________________________________________________\n",
      "conv2d_1 (Conv2D)            (None, 11, 11, 64)        36928     \n",
      "_________________________________________________________________\n",
      "max_pooling2d_1 (MaxPooling2 (None, 5, 5, 64)          0         \n",
      "_________________________________________________________________\n",
      "flatten (Flatten)            (None, 1600)              0         \n",
      "_________________________________________________________________\n",
      "dense (Dense)                (None, 128)               204928    \n",
      "_________________________________________________________________\n",
      "dense_1 (Dense)              (None, 10)                1290      \n",
      "=================================================================\n",
      "Total params: 243,786\n",
      "Trainable params: 243,786\n",
      "Non-trainable params: 0\n",
      "_________________________________________________________________\n"
     ]
    }
   ],
   "source": [
    "model.summary()"
   ]
  },
  {
   "cell_type": "markdown",
   "id": "41824a9c",
   "metadata": {},
   "source": [
    "# Training the Neural Network"
   ]
  },
  {
   "cell_type": "markdown",
   "id": "e5cc4584",
   "metadata": {},
   "source": [
    "We train the neural network using training data in model.fit. Here it learns the relationship between the image and the labels.\n",
    "\n",
    "It will go through the \"OPTIMIZER\" and \"LOSS\" loop for the number of epochs we specify."
   ]
  },
  {
   "cell_type": "code",
   "execution_count": 8,
   "id": "47fcfeb3",
   "metadata": {},
   "outputs": [
    {
     "name": "stdout",
     "output_type": "stream",
     "text": [
      "Epoch 1/5\n",
      "1875/1875 [==============================] - 73s 36ms/step - loss: 0.4393 - accuracy: 0.8413\n",
      "Epoch 2/5\n",
      "1875/1875 [==============================] - 66s 35ms/step - loss: 0.2921 - accuracy: 0.8935\n",
      "Epoch 3/5\n",
      "1875/1875 [==============================] - 66s 35ms/step - loss: 0.2487 - accuracy: 0.9076\n",
      "Epoch 4/5\n",
      "1875/1875 [==============================] - 67s 36ms/step - loss: 0.2168 - accuracy: 0.9186\n",
      "Epoch 5/5\n",
      "1875/1875 [==============================] - 68s 36ms/step - loss: 0.1883 - accuracy: 0.9294\n"
     ]
    },
    {
     "data": {
      "text/plain": [
       "<tensorflow.python.keras.callbacks.History at 0x1ba58a2f970>"
      ]
     },
     "execution_count": 8,
     "metadata": {},
     "output_type": "execute_result"
    }
   ],
   "source": [
    "model.fit(training_images, training_labels, epochs=5)"
   ]
  },
  {
   "cell_type": "markdown",
   "id": "8be29d96",
   "metadata": {},
   "source": [
    "# Evaluate the Model"
   ]
  },
  {
   "cell_type": "markdown",
   "id": "0a9d014a",
   "metadata": {},
   "source": [
    "Now, we have a model which has learned the relationship between the image and the labels.\n",
    "\n",
    "To evaluate the model we call model.evaluate, and pass in the two test sets."
   ]
  },
  {
   "cell_type": "code",
   "execution_count": 9,
   "id": "757784a8",
   "metadata": {},
   "outputs": [
    {
     "name": "stdout",
     "output_type": "stream",
     "text": [
      "313/313 [==============================] - 10s 7ms/step - loss: 0.2479 - accuracy: 0.9088\n"
     ]
    }
   ],
   "source": [
    "test_loss = model.evaluate(test_images, test_labels)"
   ]
  },
  {
   "cell_type": "markdown",
   "id": "ae72ed97",
   "metadata": {},
   "source": [
    "# Visualizing the Convolutions and Pooling"
   ]
  },
  {
   "cell_type": "markdown",
   "id": "5f7baace",
   "metadata": {},
   "source": [
    "The print (test_labels[:100]) shows us the first 100 labels in the test set."
   ]
  },
  {
   "cell_type": "code",
   "execution_count": 10,
   "id": "d20378de",
   "metadata": {},
   "outputs": [
    {
     "name": "stdout",
     "output_type": "stream",
     "text": [
      "[9 2 1 1 6 1 4 6 5 7 4 5 7 3 4 1 2 4 8 0 2 5 7 9 1 4 6 0 9 3 8 8 3 3 8 0 7\n",
      " 5 7 9 6 1 3 7 6 7 2 1 2 2 4 4 5 8 2 2 8 4 8 0 7 7 8 5 1 1 2 3 9 8 7 0 2 6\n",
      " 2 3 1 2 8 4 1 8 5 9 5 0 3 2 0 6 5 3 6 7 1 8 0 1 4 2]\n"
     ]
    }
   ],
   "source": [
    "print(test_labels[:100])"
   ]
  },
  {
   "cell_type": "code",
   "execution_count": 11,
   "id": "1e629d38",
   "metadata": {},
   "outputs": [
    {
     "data": {
      "image/png": "[encoded data removed]",
      "text/plain": [
       "<Figure size 432x288 with 12 Axes>"
      ]
     },
     "metadata": {
      "needs_background": "light"
     },
     "output_type": "display_data"
    }
   ],
   "source": [
    "import matplotlib.pyplot as plt\n",
    "f, axarr = plt.subplots(3,4)\n",
    "FIRST_IMAGE=0\n",
    "SECOND_IMAGE=7\n",
    "THIRD_IMAGE=26\n",
    "CONVOLUTION_NUMBER = 1\n",
    "from tensorflow.keras import models\n",
    "layer_outputs = [layer.output for layer in model.layers]\n",
    "activation_model = tf.keras.models.Model(inputs = model.input, outputs = layer_outputs)\n",
    "for x in range(0,4):\n",
    "  f1 = activation_model.predict(test_images[FIRST_IMAGE].reshape(1, 28, 28, 1))[x]\n",
    "  axarr[0,x].imshow(f1[0, : , :, CONVOLUTION_NUMBER], cmap='inferno')\n",
    "  axarr[0,x].grid(False)\n",
    "  f2 = activation_model.predict(test_images[SECOND_IMAGE].reshape(1, 28, 28, 1))[x]\n",
    "  axarr[1,x].imshow(f2[0, : , :, CONVOLUTION_NUMBER], cmap='inferno')\n",
    "  axarr[1,x].grid(False)\n",
    "  f3 = activation_model.predict(test_images[THIRD_IMAGE].reshape(1, 28, 28, 1))[x]\n",
    "  axarr[2,x].imshow(f3[0, : , :, CONVOLUTION_NUMBER], cmap='inferno')\n",
    "  axarr[2,x].grid(False)"
   ]
  },
  {
   "cell_type": "code",
   "execution_count": null,
   "id": "085a041d",
   "metadata": {},
   "outputs": [],
   "source": []
  }
 ],
 "metadata": {
  "kernelspec": {
   "display_name": "Python 3",
   "language": "python",
   "name": "python3"
  },
  "language_info": {
   "codemirror_mode": {
    "name": "ipython",
    "version": 3
   },
   "file_extension": ".py",
   "mimetype": "text/x-python",
   "name": "python",
   "nbconvert_exporter": "python",
   "pygments_lexer": "ipython3",
   "version": "3.8.8"
  }
 },
 "nbformat": 4,
 "nbformat_minor": 5
}
