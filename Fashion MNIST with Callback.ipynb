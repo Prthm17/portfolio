{
 "cells": [
  {
   "cell_type": "markdown",
   "id": "9a8aed77",
   "metadata": {},
   "source": [
    "# Imports"
   ]
  },
  {
   "cell_type": "markdown",
   "id": "5d7b769a",
   "metadata": {},
   "source": [
    "We start with imports.\n",
    "\n",
    "Here we are importing TensorFlow and calling it tf for ease of use.\n",
    "\n",
    "And, Checking it's version."
   ]
  },
  {
   "cell_type": "code",
   "execution_count": 1,
   "id": "b857048c",
   "metadata": {},
   "outputs": [
    {
     "name": "stdout",
     "output_type": "stream",
     "text": [
      "2.5.0\n"
     ]
    }
   ],
   "source": [
    "import tensorflow as tf\n",
    "\n",
    "print(tf.__version__)"
   ]
  },
  {
   "cell_type": "markdown",
   "id": "4c7edddc",
   "metadata": {},
   "source": [
    "# Defining a Class to handle the Callback"
   ]
  },
  {
   "cell_type": "markdown",
   "id": "9f6e9b3a",
   "metadata": {},
   "source": [
    "In callback class, we are implimenting the on_epoch_end function, which gets called by the callback whenever the epoch ends.\n",
    "\n",
    "It also sends a logs object which contains lots of great information about the current state of training.\n",
    "\n",
    "The current accuracy is available in the logs, so we can query it for certain amount.\n",
    "\n",
    "Here we are checking if the accuracy is greater than 0.6 and canceling the training itself. "
   ]
  },
  {
   "cell_type": "code",
   "execution_count": 2,
   "id": "b3845fae",
   "metadata": {},
   "outputs": [],
   "source": [
    "class myCallback(tf.keras.callbacks.Callback):\n",
    "  def on_epoch_end(self, epoch, logs={}):\n",
    "    if(logs.get('accuracy')>0.6):\n",
    "      print(\"\\nReached 60% accuracy so cancelling training!\")\n",
    "      self.model.stop_training = True"
   ]
  },
  {
   "cell_type": "markdown",
   "id": "5b4cce3d",
   "metadata": {},
   "source": [
    "Now, we instantiate the class that we have just created."
   ]
  },
  {
   "cell_type": "code",
   "execution_count": 3,
   "id": "a3df0354",
   "metadata": {},
   "outputs": [],
   "source": [
    "callbacks = myCallback()"
   ]
  },
  {
   "cell_type": "markdown",
   "id": "0df37c87",
   "metadata": {},
   "source": [
    "# Providing the Data"
   ]
  },
  {
   "cell_type": "markdown",
   "id": "c378ce48",
   "metadata": {},
   "source": [
    "The Fashion MNIST data is available directly in the tf.keras datasets API.\n",
    "\n",
    "We load it here."
   ]
  },
  {
   "cell_type": "code",
   "execution_count": 4,
   "id": "f6a9522c",
   "metadata": {},
   "outputs": [],
   "source": [
    "mnist = tf.keras.datasets.fashion_mnist"
   ]
  },
  {
   "cell_type": "markdown",
   "id": "9ae772ff",
   "metadata": {},
   "source": [
    "# Creating Training and Testing set"
   ]
  },
  {
   "cell_type": "markdown",
   "id": "5eec10c8",
   "metadata": {},
   "source": [
    "We create the training and testing values for the graphics that contain the clothing items and their labels by calling load_data on the object - mnist."
   ]
  },
  {
   "cell_type": "code",
   "execution_count": 6,
   "id": "bbfd4a26",
   "metadata": {},
   "outputs": [],
   "source": [
    "(x_train, y_train),(x_test, y_test) = mnist.load_data()"
   ]
  },
  {
   "cell_type": "markdown",
   "id": "d55eac0e",
   "metadata": {},
   "source": [
    "# Normalizing"
   ]
  },
  {
   "cell_type": "markdown",
   "id": "99d289e6",
   "metadata": {},
   "source": [
    "The values in the number are between 0 and 255.\n",
    "\n",
    "While training a neural network, for various reasons it's easier if we treat all values as between 0 and 1.\n",
    "\n",
    "It is called 'normalizing'.\n",
    "\n",
    "We do it here."
   ]
  },
  {
   "cell_type": "code",
   "execution_count": 7,
   "id": "77ceca01",
   "metadata": {},
   "outputs": [],
   "source": [
    "x_train, x_test = x_train / 255.0, x_test / 255.0"
   ]
  },
  {
   "cell_type": "markdown",
   "id": "2ea57eaf",
   "metadata": {},
   "source": [
    "# Define the Neural Network"
   ]
  },
  {
   "cell_type": "markdown",
   "id": "959a8c0f",
   "metadata": {},
   "source": [
    "Sequential defines a SEQUENCE of layers in the neural network.\n",
    "\n",
    "Flatten takes thae square(shape of images) and turns it into a 1 dimensional set.\n",
    "\n",
    "The flatten layer is with the input shaping 28x28, because our images are 28x28. Therefore we are specifying that this is the shape that we should expect the data to be in.\n",
    "\n",
    "Dense adds a layer of neurons. Each layer of neurons need an activation function to tell them what to do.\n",
    "\n",
    "Relu effectively means \"If X>0 return X, else return 0\" -- so what it does it it only passes values 0 or greater to the next layer in the network.\n",
    "\n",
    "Softmax takes a set of values, and effectively picks the biggest one. It turns [0.1, 0.1, 0.05, 0.1, 9.5, 0.1, 0.05, 0.05, 0.05] into [0,0,0,0,1,0,0,0,0]\n",
    "\n",
    "The last layer has 10 neurons in it, because we have 10 classes of clothing in the dataset."
   ]
  },
  {
   "cell_type": "code",
   "execution_count": 8,
   "id": "c97f52db",
   "metadata": {},
   "outputs": [],
   "source": [
    "model = tf.keras.models.Sequential([\n",
    "  tf.keras.layers.Flatten(input_shape=(28, 28)),\n",
    "  tf.keras.layers.Dense(512, activation=tf.nn.relu),\n",
    "  tf.keras.layers.Dense(10, activation=tf.nn.softmax)\n",
    "])"
   ]
  },
  {
   "cell_type": "markdown",
   "id": "6758463a",
   "metadata": {},
   "source": [
    "# Compile the Neural Network"
   ]
  },
  {
   "cell_type": "markdown",
   "id": "5c305d1b",
   "metadata": {},
   "source": [
    "While compiling our Neural Network we have to specify two functions, a loss and an optimizer.\n",
    "\n",
    "Computer makes a guess while trying to learn this relationship.\n",
    "\n",
    "The LOSS function measures the guessed answers against the known correct answers and measures how well or how badly it did.\n",
    "\n",
    "It then uses OPTIMIZER function to make another guess. Based on how the loss function went, it will try to minimize the loss.\n",
    "\n",
    "Here, we are using 'sparse_categorical_crossentropy' for the loss and 'Adam' for the optimizer."
   ]
  },
  {
   "cell_type": "code",
   "execution_count": 9,
   "id": "991b6185",
   "metadata": {},
   "outputs": [],
   "source": [
    "model.compile(optimizer=tf.optimizers.Adam(),\n",
    "              loss='sparse_categorical_crossentropy',\n",
    "              metrics=['accuracy'])"
   ]
  },
  {
   "cell_type": "markdown",
   "id": "89a3da4a",
   "metadata": {},
   "source": [
    "# Training the Neural Network"
   ]
  },
  {
   "cell_type": "markdown",
   "id": "fdfa1619",
   "metadata": {},
   "source": [
    "We train the neural network using training data in model.fit. Here it learns the relationship between the image and the labels.\n",
    "\n",
    "It will go through the \"OPTIMIZER\" and \"LOSS\" loop for the number of epochs we specify.\n",
    "\n",
    "Here, we use the callbacks parameter and pass it this instance of the class."
   ]
  },
  {
   "cell_type": "code",
   "execution_count": 10,
   "id": "6f5240c2",
   "metadata": {},
   "outputs": [
    {
     "name": "stdout",
     "output_type": "stream",
     "text": [
      "Epoch 1/10\n",
      "   6/1875 [..............................] - ETA: 20s - loss: 1.8124 - accuracy: 0.3958    WARNING:tensorflow:Callback method `on_train_batch_end` is slow compared to the batch time (batch time: 0.0058s vs `on_train_batch_end` time: 0.0061s). Check your callbacks.\n",
      "1875/1875 [==============================] - 12s 4ms/step - loss: 0.4710 - accuracy: 0.8306\n",
      "\n",
      "Reached 60% accuracy so cancelling training!\n"
     ]
    },
    {
     "data": {
      "text/plain": [
       "<tensorflow.python.keras.callbacks.History at 0x1e5add40e20>"
      ]
     },
     "execution_count": 10,
     "metadata": {},
     "output_type": "execute_result"
    }
   ],
   "source": [
    "model.fit(x_train, y_train, epochs=10, callbacks=[callbacks])"
   ]
  }
 ],
 "metadata": {
  "kernelspec": {
   "display_name": "Python 3",
   "language": "python",
   "name": "python3"
  },
  "language_info": {
   "codemirror_mode": {
    "name": "ipython",
    "version": 3
   },
   "file_extension": ".py",
   "mimetype": "text/x-python",
   "name": "python",
   "nbconvert_exporter": "python",
   "pygments_lexer": "ipython3",
   "version": "3.8.8"
  }
 },
 "nbformat": 4,
 "nbformat_minor": 5
}
