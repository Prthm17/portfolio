{
 "cells": [
  {
   "cell_type": "markdown",
   "id": "4bccd7ba",
   "metadata": {},
   "source": [
    "# Imports"
   ]
  },
  {
   "cell_type": "markdown",
   "id": "0b2fb785",
   "metadata": {},
   "source": [
    "We start with imports.\n",
    "\n",
    "Here we are importing TensorFlow and calling it tf for ease of use.\n",
    "\n",
    "And, Check version of TensorFlow."
   ]
  },
  {
   "cell_type": "code",
   "execution_count": 1,
   "id": "3b6338f2",
   "metadata": {},
   "outputs": [
    {
     "name": "stdout",
     "output_type": "stream",
     "text": [
      "2.5.0\n"
     ]
    }
   ],
   "source": [
    "import tensorflow as tf\n",
    "\n",
    "print(tf.__version__)"
   ]
  },
  {
   "cell_type": "markdown",
   "id": "f2d20b48",
   "metadata": {},
   "source": [
    "# Callback"
   ]
  },
  {
   "cell_type": "markdown",
   "id": "363157cd",
   "metadata": {},
   "source": [
    "Callback allows us to stop training once the training accuracy reaches a certain desired threshold. Thus, we can achieve what we want and avoid wastage of resources.\n",
    "\n",
    "We can callback to a code function, having checked the metrics.\n",
    "\n",
    "Callback is implemented as a separate class.\n",
    "\n",
    "Here we create a class - myCallback by extending tf.keras.callbacks.Callback\n",
    "\n",
    "In it, we'll implement the on_epoch_end function, which gets called by the callback whenever the epoch ends.\n",
    "\n",
    "It also sends a logs object which contains lots of great information about the current state of training.\n",
    "\n",
    "Here we are checking if the accuracy is greater than 0.6 and canceling the training itself.\n",
    "\n",
    "If accuracy is greater than our threshold, we are setting the stop_training of model to True.\n",
    "\n",
    "\n",
    "\n"
   ]
  },
  {
   "cell_type": "code",
   "execution_count": 2,
   "id": "183b00ae",
   "metadata": {},
   "outputs": [],
   "source": [
    "class myCallback(tf.keras.callbacks.Callback):\n",
    "    def on_epoch_end(self, epoch, logs={}):\n",
    "        if(logs.get('accuracy')>0.6):\n",
    "            print('\\nReached 60% accuracy so cancelling training!')\n",
    "            self.model.stop_training=True\n"
   ]
  },
  {
   "cell_type": "markdown",
   "id": "3080c80e",
   "metadata": {},
   "source": [
    "We instantiate the callback class with callbacks = myCallback()"
   ]
  },
  {
   "cell_type": "code",
   "execution_count": 3,
   "id": "1f720452",
   "metadata": {},
   "outputs": [],
   "source": [
    "callbacks = myCallback()"
   ]
  },
  {
   "cell_type": "markdown",
   "id": "4d88a283",
   "metadata": {},
   "source": [
    "# Providing the Data"
   ]
  },
  {
   "cell_type": "markdown",
   "id": "6cba78ba",
   "metadata": {},
   "source": [
    "The Fashion MNIST data is available directly in the tf.keras datasets API.\n",
    "\n",
    "We load it here.\n",
    "\n",
    "We declare an object - mnist"
   ]
  },
  {
   "cell_type": "code",
   "execution_count": 4,
   "id": "324d956c",
   "metadata": {},
   "outputs": [],
   "source": [
    "mnist = tf.keras.datasets.fashion_mnist"
   ]
  },
  {
   "cell_type": "markdown",
   "id": "21ee7532",
   "metadata": {},
   "source": [
    "# Creating Training and Testing set"
   ]
  },
  {
   "cell_type": "markdown",
   "id": "9fb5fde0",
   "metadata": {},
   "source": [
    "We create the training and testing datasets for the graphics that contain the clothing items and their labels by calling load_data on the object - mnist.\n",
    "\n",
    "That's the training data, the training labels, the testing data, and the testing labels.\n",
    "\n",
    "It is important to use some of our data to train the neural network and similar data that the model hasn't yet seen to test how good it is at recognizing the images."
   ]
  },
  {
   "cell_type": "code",
   "execution_count": 5,
   "id": "40041b55",
   "metadata": {},
   "outputs": [],
   "source": [
    "(training_images, training_labels), (test_images, test_labels) = mnist.load_data()"
   ]
  },
  {
   "cell_type": "markdown",
   "id": "300ed393",
   "metadata": {},
   "source": [
    "# Normalizing"
   ]
  },
  {
   "cell_type": "markdown",
   "id": "88643fce",
   "metadata": {},
   "source": [
    "The values of pixels are in the number between 0 and 255.\n",
    "\n",
    "While training a neural network, for various reasons it's easier if we treat all values as between 0 and 1.\n",
    "\n",
    "It is called 'normalizing'.\n",
    "\n",
    "We do it here."
   ]
  },
  {
   "cell_type": "code",
   "execution_count": 6,
   "id": "f1e8755e",
   "metadata": {},
   "outputs": [],
   "source": [
    "training_images = training_images / 255.0\n",
    "test_images = test_images / 255.0"
   ]
  },
  {
   "cell_type": "markdown",
   "id": "2d817f8d",
   "metadata": {},
   "source": [
    "# Define the Neural Network"
   ]
  },
  {
   "cell_type": "markdown",
   "id": "ae927006",
   "metadata": {},
   "source": [
    "Here we have 3 layers.\n",
    "\n",
    "Sequential defines a SEQUENCE of layers in the neural network.\n",
    "\n",
    "The first layer is a flatten layer with the input shaping 28 by 28. Flatten takes thae square(shape of images) and turns it into a 1 dimensional set(a simple linear array).\n",
    "\n",
    "The middle layer is sometimes also called a hidden layer. This has 128 neurons in it.\n",
    "\n",
    "The last layer has 10 neurons in it because we have ten classes of clothing in the dataset.\n",
    "\n",
    "Dense adds a layer of neurons. Each layer of neurons need an activation function to tell them what to do.\n",
    "\n",
    "Relu effectively means \"If X>0 return X, else return 0\" -- so what it does it it only passes values 0 or greater to the next layer in the network.\n",
    "\n",
    "Softmax takes a set of values, and effectively picks the biggest one. It turns [0.1, 0.1, 0.05, 0.1, 9.5, 0.1, 0.05, 0.05, 0.05] into [0,0,0,0,1,0,0,0,0]"
   ]
  },
  {
   "cell_type": "code",
   "execution_count": 5,
   "id": "a261d03d",
   "metadata": {},
   "outputs": [
    {
     "ename": "NameError",
     "evalue": "name 'tf' is not defined",
     "output_type": "error",
     "traceback": [
      "\u001b[1;31m---------------------------------------------------------------------------\u001b[0m",
      "\u001b[1;31mNameError\u001b[0m                                 Traceback (most recent call last)",
      "\u001b[1;32m<ipython-input-5-abdc454282cf>\u001b[0m in \u001b[0;36m<module>\u001b[1;34m\u001b[0m\n\u001b[1;32m----> 1\u001b[1;33m model = tf.keras.models.Sequential([tf.keras.layers.Flatten(input_shape=(28,28)),\n\u001b[0m\u001b[0;32m      2\u001b[0m                                    \u001b[0mtf\u001b[0m\u001b[1;33m.\u001b[0m\u001b[0mkeras\u001b[0m\u001b[1;33m.\u001b[0m\u001b[0mlayers\u001b[0m\u001b[1;33m.\u001b[0m\u001b[0mDense\u001b[0m\u001b[1;33m(\u001b[0m\u001b[1;36m1024\u001b[0m\u001b[1;33m,\u001b[0m \u001b[0mactivation\u001b[0m\u001b[1;33m=\u001b[0m\u001b[1;34m'relu'\u001b[0m\u001b[1;33m)\u001b[0m\u001b[1;33m,\u001b[0m\u001b[1;33m\u001b[0m\u001b[1;33m\u001b[0m\u001b[0m\n\u001b[0;32m      3\u001b[0m                                    tf.keras.layers.Dense(10, activation='softmax')])\n",
      "\u001b[1;31mNameError\u001b[0m: name 'tf' is not defined"
     ]
    }
   ],
   "source": [
    "model = tf.keras.models.Sequential([tf.keras.layers.Flatten(input_shape=(28,28)),\n",
    "                                   tf.keras.layers.Dense(1024, activation='relu'),\n",
    "                                   tf.keras.layers.Dense(10, activation='softmax')])"
   ]
  },
  {
   "cell_type": "markdown",
   "id": "e78f9596",
   "metadata": {},
   "source": [
    "# Compile the Neural Network"
   ]
  },
  {
   "cell_type": "markdown",
   "id": "8acd87b5",
   "metadata": {},
   "source": [
    "While compiling our Neural Network we have to specify two functions, a loss and an optimizer.\n",
    "\n",
    "Computer makes a guess while trying to learn any relationship.\n",
    "\n",
    "The LOSS function measures the guessed answers against the known correct answers and measures how well or how badly it did.\n",
    "\n",
    "It then uses OPTIMIZER function to make another guess. Based on how the loss function went, it will try to minimize the loss.\n",
    "\n",
    "Here, we are using 'sparse_categorical_crossentropy' for the loss and 'Adam' for the optimizer.\n",
    "\n",
    "The Keras library provides a way to calculate and report on a suite of standard metrics when training deep learning models.\n",
    "\n",
    "This is particularly useful when we want to keep track of a performance measure that better captures the skill of our model during training. Here we will keep track of accuracy.\n",
    "\n",
    "We can do this by specifying the “metrics” argument.\n",
    "\n",
    "Regardless of whether our problem is a binary or multi-class classification problem, we can specify the ‘accuracy‘ metric to report on accuracy.\n",
    "\n",
    "Here we are using the built-in accuracy metric for multi-class classification problem."
   ]
  },
  {
   "cell_type": "code",
   "execution_count": 6,
   "id": "9e241623",
   "metadata": {},
   "outputs": [
    {
     "ename": "NameError",
     "evalue": "name 'model' is not defined",
     "output_type": "error",
     "traceback": [
      "\u001b[1;31m---------------------------------------------------------------------------\u001b[0m",
      "\u001b[1;31mNameError\u001b[0m                                 Traceback (most recent call last)",
      "\u001b[1;32m<ipython-input-6-acb14a605842>\u001b[0m in \u001b[0;36m<module>\u001b[1;34m\u001b[0m\n\u001b[1;32m----> 1\u001b[1;33m \u001b[0mmodel\u001b[0m\u001b[1;33m.\u001b[0m\u001b[0mcompile\u001b[0m\u001b[1;33m(\u001b[0m\u001b[0moptimizer\u001b[0m\u001b[1;33m=\u001b[0m\u001b[1;34m'Adam'\u001b[0m\u001b[1;33m,\u001b[0m \u001b[0mloss\u001b[0m\u001b[1;33m=\u001b[0m\u001b[1;34m'sparse_categorical_crossentropy'\u001b[0m\u001b[1;33m,\u001b[0m \u001b[0mmetrics\u001b[0m\u001b[1;33m=\u001b[0m\u001b[1;33m[\u001b[0m\u001b[1;34m'accuracy'\u001b[0m\u001b[1;33m]\u001b[0m\u001b[1;33m)\u001b[0m\u001b[1;33m\u001b[0m\u001b[1;33m\u001b[0m\u001b[0m\n\u001b[0m",
      "\u001b[1;31mNameError\u001b[0m: name 'model' is not defined"
     ]
    }
   ],
   "source": [
    "model.compile(optimizer='Adam', loss='sparse_categorical_crossentropy', metrics=['accuracy'])"
   ]
  },
  {
   "cell_type": "markdown",
   "id": "981a3b18",
   "metadata": {},
   "source": [
    "# Training the Neural Network"
   ]
  },
  {
   "cell_type": "markdown",
   "id": "8458f425",
   "metadata": {},
   "source": [
    "We train the neural network using training data in model.fit. Here it learns the relationship between the image and the labels.\n",
    "\n",
    "It will go through the \"OPTIMIZER\" and \"LOSS\" loop for the number of epochs we specify.\n",
    "\n",
    "Here, we use the callbacks parameter in model.fit and pass it the instance of the class that we have created.\n",
    "\n",
    "The callback will hit at the end of the epoch, because the accuracy may vary up and down during the epoch."
   ]
  },
  {
   "cell_type": "code",
   "execution_count": 7,
   "id": "8ef22cc8",
   "metadata": {},
   "outputs": [
    {
     "ename": "NameError",
     "evalue": "name 'model' is not defined",
     "output_type": "error",
     "traceback": [
      "\u001b[1;31m---------------------------------------------------------------------------\u001b[0m",
      "\u001b[1;31mNameError\u001b[0m                                 Traceback (most recent call last)",
      "\u001b[1;32m<ipython-input-7-0616fd3555aa>\u001b[0m in \u001b[0;36m<module>\u001b[1;34m\u001b[0m\n\u001b[1;32m----> 1\u001b[1;33m \u001b[0mmodel\u001b[0m\u001b[1;33m.\u001b[0m\u001b[0mfit\u001b[0m\u001b[1;33m(\u001b[0m\u001b[0mtraining_images\u001b[0m\u001b[1;33m,\u001b[0m \u001b[0mtraining_labels\u001b[0m\u001b[1;33m,\u001b[0m \u001b[0mepochs\u001b[0m\u001b[1;33m=\u001b[0m\u001b[1;36m10\u001b[0m\u001b[1;33m,\u001b[0m \u001b[0mcallbacks\u001b[0m\u001b[1;33m=\u001b[0m\u001b[1;33m[\u001b[0m\u001b[0mcallbacks\u001b[0m\u001b[1;33m]\u001b[0m\u001b[1;33m)\u001b[0m\u001b[1;33m\u001b[0m\u001b[1;33m\u001b[0m\u001b[0m\n\u001b[0m",
      "\u001b[1;31mNameError\u001b[0m: name 'model' is not defined"
     ]
    }
   ],
   "source": [
    "model.fit(training_images, training_labels, epochs=10, callbacks=[callbacks])"
   ]
  },
  {
   "cell_type": "code",
   "execution_count": null,
   "id": "dffe91f9",
   "metadata": {},
   "outputs": [],
   "source": []
  }
 ],
 "metadata": {
  "kernelspec": {
   "display_name": "Python 3",
   "language": "python",
   "name": "python3"
  },
  "language_info": {
   "codemirror_mode": {
    "name": "ipython",
    "version": 3
   },
   "file_extension": ".py",
   "mimetype": "text/x-python",
   "name": "python",
   "nbconvert_exporter": "python",
   "pygments_lexer": "ipython3",
   "version": "3.8.8"
  }
 },
 "nbformat": 4,
 "nbformat_minor": 5
}
