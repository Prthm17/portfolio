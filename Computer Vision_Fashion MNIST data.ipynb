{
 "cells": [
  {
   "cell_type": "markdown",
   "id": "39d9042a",
   "metadata": {},
   "source": [
    "# Imports"
   ]
  },
  {
   "cell_type": "markdown",
   "id": "b2b0fe8e",
   "metadata": {},
   "source": [
    "We start with imports.\n",
    "\n",
    "Here we are importing TensorFlow and calling it tf for ease of use.\n",
    "\n",
    "We then import a library - numpy.\n",
    "\n",
    "This library will help us to represent our data as lists easily and quickly.\n",
    "\n",
    "Then we import a framework - keras.\n",
    "\n",
    "This will help us define a neural network as a set of Sequential layers.\n",
    "\n",
    "We import the library - matplotlib.pyplot as plt for ease of use.\n",
    "\n",
    "This will help us to plot images."
   ]
  },
  {
   "cell_type": "code",
   "execution_count": 1,
   "id": "c567d2ac",
   "metadata": {},
   "outputs": [],
   "source": [
    "import tensorflow as tf\n",
    "import numpy as np\n",
    "from tensorflow import keras\n",
    "import matplotlib.pyplot as plt"
   ]
  },
  {
   "cell_type": "markdown",
   "id": "46f1ea49",
   "metadata": {},
   "source": [
    "Checking version of TensorFlow."
   ]
  },
  {
   "cell_type": "code",
   "execution_count": 2,
   "id": "61e131e8",
   "metadata": {},
   "outputs": [
    {
     "name": "stdout",
     "output_type": "stream",
     "text": [
      "2.5.0\n"
     ]
    }
   ],
   "source": [
    "print(tf.__version__)"
   ]
  },
  {
   "cell_type": "markdown",
   "id": "e77ba629",
   "metadata": {},
   "source": [
    "# Providing the Data"
   ]
  },
  {
   "cell_type": "markdown",
   "id": "158e3202",
   "metadata": {},
   "source": [
    "The Fashion MNIST data is available directly in the tf.keras datasets API.\n",
    "\n",
    "We load it here."
   ]
  },
  {
   "cell_type": "code",
   "execution_count": 3,
   "id": "28138668",
   "metadata": {},
   "outputs": [],
   "source": [
    "mnist = tf.keras.datasets.fashion_mnist"
   ]
  },
  {
   "cell_type": "markdown",
   "id": "382bb52d",
   "metadata": {},
   "source": [
    "# Creating Training and Testing set"
   ]
  },
  {
   "cell_type": "markdown",
   "id": "6887f3d7",
   "metadata": {},
   "source": [
    "We create the training and testing values for the graphics that contain the clothing items and their labels by calling load_data on the object - mnist."
   ]
  },
  {
   "cell_type": "code",
   "execution_count": 4,
   "id": "94920298",
   "metadata": {},
   "outputs": [],
   "source": [
    "(training_images, training_labels), (test_images, test_labels) = mnist.load_data()"
   ]
  },
  {
   "cell_type": "markdown",
   "id": "231fbd99",
   "metadata": {},
   "source": [
    "# Printing a training image, and a training label"
   ]
  },
  {
   "cell_type": "markdown",
   "id": "66b687f6",
   "metadata": {},
   "source": [
    "We set linewidth at 200 by using np.set_printoptions\n",
    "\n",
    "To display data as an image plt.imshow is used."
   ]
  },
  {
   "cell_type": "code",
   "execution_count": 5,
   "id": "ba8fd88b",
   "metadata": {},
   "outputs": [
    {
     "name": "stdout",
     "output_type": "stream",
     "text": [
      "9\n",
      "[[  0   0   0   0   0   0   0   0   0   0   0   0   0   0   0   0   0   0   0   0   0   0   0   0   0   0   0   0]\n",
      " [  0   0   0   0   0   0   0   0   0   0   0   0   0   0   0   0   0   0   0   0   0   0   0   0   0   0   0   0]\n",
      " [  0   0   0   0   0   0   0   0   0   0   0   0   0   0   0   0   0   0   0   0   0   0   0   0   0   0   0   0]\n",
      " [  0   0   0   0   0   0   0   0   0   0   0   0   1   0   0  13  73   0   0   1   4   0   0   0   0   1   1   0]\n",
      " [  0   0   0   0   0   0   0   0   0   0   0   0   3   0  36 136 127  62  54   0   0   0   1   3   4   0   0   3]\n",
      " [  0   0   0   0   0   0   0   0   0   0   0   0   6   0 102 204 176 134 144 123  23   0   0   0   0  12  10   0]\n",
      " [  0   0   0   0   0   0   0   0   0   0   0   0   0   0 155 236 207 178 107 156 161 109  64  23  77 130  72  15]\n",
      " [  0   0   0   0   0   0   0   0   0   0   0   1   0  69 207 223 218 216 216 163 127 121 122 146 141  88 172  66]\n",
      " [  0   0   0   0   0   0   0   0   0   1   1   1   0 200 232 232 233 229 223 223 215 213 164 127 123 196 229   0]\n",
      " [  0   0   0   0   0   0   0   0   0   0   0   0   0 183 225 216 223 228 235 227 224 222 224 221 223 245 173   0]\n",
      " [  0   0   0   0   0   0   0   0   0   0   0   0   0 193 228 218 213 198 180 212 210 211 213 223 220 243 202   0]\n",
      " [  0   0   0   0   0   0   0   0   0   1   3   0  12 219 220 212 218 192 169 227 208 218 224 212 226 197 209  52]\n",
      " [  0   0   0   0   0   0   0   0   0   0   6   0  99 244 222 220 218 203 198 221 215 213 222 220 245 119 167  56]\n",
      " [  0   0   0   0   0   0   0   0   0   4   0   0  55 236 228 230 228 240 232 213 218 223 234 217 217 209  92   0]\n",
      " [  0   0   1   4   6   7   2   0   0   0   0   0 237 226 217 223 222 219 222 221 216 223 229 215 218 255  77   0]\n",
      " [  0   3   0   0   0   0   0   0   0  62 145 204 228 207 213 221 218 208 211 218 224 223 219 215 224 244 159   0]\n",
      " [  0   0   0   0  18  44  82 107 189 228 220 222 217 226 200 205 211 230 224 234 176 188 250 248 233 238 215   0]\n",
      " [  0  57 187 208 224 221 224 208 204 214 208 209 200 159 245 193 206 223 255 255 221 234 221 211 220 232 246   0]\n",
      " [  3 202 228 224 221 211 211 214 205 205 205 220 240  80 150 255 229 221 188 154 191 210 204 209 222 228 225   0]\n",
      " [ 98 233 198 210 222 229 229 234 249 220 194 215 217 241  65  73 106 117 168 219 221 215 217 223 223 224 229  29]\n",
      " [ 75 204 212 204 193 205 211 225 216 185 197 206 198 213 240 195 227 245 239 223 218 212 209 222 220 221 230  67]\n",
      " [ 48 203 183 194 213 197 185 190 194 192 202 214 219 221 220 236 225 216 199 206 186 181 177 172 181 205 206 115]\n",
      " [  0 122 219 193 179 171 183 196 204 210 213 207 211 210 200 196 194 191 195 191 198 192 176 156 167 177 210  92]\n",
      " [  0   0  74 189 212 191 175 172 175 181 185 188 189 188 193 198 204 209 210 210 211 188 188 194 192 216 170   0]\n",
      " [  2   0   0   0  66 200 222 237 239 242 246 243 244 221 220 193 191 179 182 182 181 176 166 168  99  58   0   0]\n",
      " [  0   0   0   0   0   0   0  40  61  44  72  41  35   0   0   0   0   0   0   0   0   0   0   0   0   0   0   0]\n",
      " [  0   0   0   0   0   0   0   0   0   0   0   0   0   0   0   0   0   0   0   0   0   0   0   0   0   0   0   0]\n",
      " [  0   0   0   0   0   0   0   0   0   0   0   0   0   0   0   0   0   0   0   0   0   0   0   0   0   0   0   0]]\n"
     ]
    },
    {
     "data": {
      "image/png": "[encoded data removed]",
      "text/plain": [
       "<Figure size 432x288 with 1 Axes>"
      ]
     },
     "metadata": {
      "needs_background": "light"
     },
     "output_type": "display_data"
    }
   ],
   "source": [
    "import numpy as np\n",
    "np.set_printoptions(linewidth=200)\n",
    "import matplotlib.pyplot as plt\n",
    "plt.imshow(training_images[0])\n",
    "print(training_labels[0])\n",
    "print(training_images[0])"
   ]
  },
  {
   "cell_type": "markdown",
   "id": "61317817",
   "metadata": {},
   "source": [
    "# Normalizing"
   ]
  },
  {
   "cell_type": "markdown",
   "id": "15897c76",
   "metadata": {},
   "source": [
    "The values in the number are between 0 and 255.\n",
    "\n",
    "While training a neural network, for various reasons it's easier if we treat all values as between 0 and 1.\n",
    "\n",
    "It is called 'normalizing'.\n",
    "\n",
    "We do it here."
   ]
  },
  {
   "cell_type": "code",
   "execution_count": 6,
   "id": "7a6840f9",
   "metadata": {},
   "outputs": [],
   "source": [
    "training_images  = training_images / 255.0\n",
    "test_images = test_images / 255.0"
   ]
  },
  {
   "cell_type": "markdown",
   "id": "8ea4a637",
   "metadata": {},
   "source": [
    "# Define the Neural Network"
   ]
  },
  {
   "cell_type": "markdown",
   "id": "45abda4d",
   "metadata": {},
   "source": [
    "Sequential defines a SEQUENCE of layers in the neural network.\n",
    "\n",
    "Flatten takes thae square(shape of images) and turns it into a 1 dimensional set.\n",
    "\n",
    "Dense adds a layer of neurons. Each layer of neurons need an activation function to tell them what to do.\n",
    "\n",
    "Relu effectively means \"If X>0 return X, else return 0\" -- so what it does it it only passes values 0 or greater to the next layer in the network.\n",
    "\n",
    "Softmax takes a set of values, and effectively picks the biggest one. It turns [0.1, 0.1, 0.05, 0.1, 9.5, 0.1, 0.05, 0.05, 0.05] into [0,0,0,0,1,0,0,0,0]"
   ]
  },
  {
   "cell_type": "code",
   "execution_count": 7,
   "id": "b0daf314",
   "metadata": {},
   "outputs": [],
   "source": [
    "model = tf.keras.models.Sequential([tf.keras.layers.Flatten(), \n",
    "                                    tf.keras.layers.Dense(128, activation=tf.nn.relu), \n",
    "                                    tf.keras.layers.Dense(10, activation=tf.nn.softmax)])"
   ]
  },
  {
   "cell_type": "markdown",
   "id": "140fd257",
   "metadata": {},
   "source": [
    "# Compile the Neural Network"
   ]
  },
  {
   "cell_type": "markdown",
   "id": "269bce6c",
   "metadata": {},
   "source": [
    "While compiling our Neural Network we have to specify two functions, a loss and an optimizer.\n",
    "\n",
    "Computer makes a guess while trying to learn this relationship.\n",
    "\n",
    "The LOSS function measures the guessed answers against the known correct answers and measures how well or how badly it did.\n",
    "\n",
    "It then uses OPTIMIZER function to make another guess. Based on how the loss function went, it will try to minimize the loss.\n",
    "\n",
    "Here, we are using 'sparse_categorical_crossentropy' for the loss and 'Adam' for the optimizer."
   ]
  },
  {
   "cell_type": "code",
   "execution_count": 8,
   "id": "69d207c1",
   "metadata": {},
   "outputs": [],
   "source": [
    "model.compile(optimizer = tf.optimizers.Adam(),\n",
    "              loss = 'sparse_categorical_crossentropy',\n",
    "              metrics=['accuracy'])"
   ]
  },
  {
   "cell_type": "markdown",
   "id": "eb1d3c51",
   "metadata": {},
   "source": [
    "# Training the Neural Network"
   ]
  },
  {
   "cell_type": "markdown",
   "id": "2afe1df3",
   "metadata": {},
   "source": [
    "We train the neural network using training data in model.fit. Here it learns the relationship between x and y.\n",
    "\n",
    "It will go through the \"OPTIMIZER\" and \"LOSS\" loop for the number of epochs we specify."
   ]
  },
  {
   "cell_type": "code",
   "execution_count": 9,
   "id": "cbfae42b",
   "metadata": {},
   "outputs": [
    {
     "name": "stdout",
     "output_type": "stream",
     "text": [
      "Epoch 1/5\n",
      "1875/1875 [==============================] - 4s 919us/step - loss: 0.4908 - accuracy: 0.8264\n",
      "Epoch 2/5\n",
      "1875/1875 [==============================] - 2s 934us/step - loss: 0.3701 - accuracy: 0.8662\n",
      "Epoch 3/5\n",
      "1875/1875 [==============================] - 2s 838us/step - loss: 0.3327 - accuracy: 0.8772\n",
      "Epoch 4/5\n",
      "1875/1875 [==============================] - 2s 834us/step - loss: 0.3095 - accuracy: 0.8865\n",
      "Epoch 5/5\n",
      "1875/1875 [==============================] - 2s 843us/step - loss: 0.2930 - accuracy: 0.8920\n"
     ]
    },
    {
     "data": {
      "text/plain": [
       "<tensorflow.python.keras.callbacks.History at 0x1e7f61abd90>"
      ]
     },
     "execution_count": 9,
     "metadata": {},
     "output_type": "execute_result"
    }
   ],
   "source": [
    "model.fit(training_images, training_labels, epochs=5)"
   ]
  },
  {
   "cell_type": "markdown",
   "id": "08528a6f",
   "metadata": {},
   "source": [
    "Once it's done training -- we can see an accuracy value at the end of the final epoch.\n",
    "\n",
    "This tells us that our neural network is about 89% accurate in classifying the training data."
   ]
  },
  {
   "cell_type": "markdown",
   "id": "ae81a4b2",
   "metadata": {},
   "source": [
    "# Evaluate the Model"
   ]
  },
  {
   "cell_type": "markdown",
   "id": "7a54da7b",
   "metadata": {},
   "source": [
    "Now, we have a model which has learned the relationship between the image and the labels.\n",
    "\n",
    "To evaluate the model we call model.evaluate, and pass in the two test sets."
   ]
  },
  {
   "cell_type": "code",
   "execution_count": 10,
   "id": "5d670dbf",
   "metadata": {},
   "outputs": [
    {
     "name": "stdout",
     "output_type": "stream",
     "text": [
      "313/313 [==============================] - 14s 715us/step - loss: 0.3475 - accuracy: 0.8766\n"
     ]
    },
    {
     "data": {
      "text/plain": [
       "[0.3474598526954651, 0.8766000270843506]"
      ]
     },
     "execution_count": 10,
     "metadata": {},
     "output_type": "execute_result"
    }
   ],
   "source": [
    "model.evaluate(test_images, test_labels)"
   ]
  },
  {
   "cell_type": "code",
   "execution_count": null,
   "id": "4d8d0a51",
   "metadata": {},
   "outputs": [],
   "source": []
  }
 ],
 "metadata": {
  "kernelspec": {
   "display_name": "Python 3",
   "language": "python",
   "name": "python3"
  },
  "language_info": {
   "codemirror_mode": {
    "name": "ipython",
    "version": 3
   },
   "file_extension": ".py",
   "mimetype": "text/x-python",
   "name": "python",
   "nbconvert_exporter": "python",
   "pygments_lexer": "ipython3",
   "version": "3.8.8"
  }
 },
 "nbformat": 4,
 "nbformat_minor": 5
}
